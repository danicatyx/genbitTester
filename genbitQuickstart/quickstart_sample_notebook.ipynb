{
 "cells": [
  {
   "cell_type": "markdown",
   "metadata": {},
   "source": [
    "##  Genbit Sample Notebook\n",
    "\n",
    "### The notebook is intended to provide quick start for users to build on top of the GenBit API."
   ]
  },
  {
   "cell_type": "markdown",
   "metadata": {},
   "source": [
    "## Install Genbit   "
   ]
  },
  {
   "cell_type": "code",
   "execution_count": 13,
   "metadata": {},
   "outputs": [
    {
     "name": "stdout",
     "output_type": "stream",
     "text": [
      "zsh:1: /usr/local/bin/pip: bad interpreter: /System/Library/Frameworks/Python.framework/Versions/2.7/Resources/Python.app/Contents/MacOS/Python: no such file or directory\n",
      "Requirement already satisfied: genbit in /Library/Frameworks/Python.framework/Versions/3.10/lib/python3.10/site-packages (2.2.0.0)\n",
      "Requirement already satisfied: scipy>=1.5.2 in /Library/Frameworks/Python.framework/Versions/3.10/lib/python3.10/site-packages (from genbit) (1.12.0)\n",
      "Requirement already satisfied: numpy>=1.21.5 in /Library/Frameworks/Python.framework/Versions/3.10/lib/python3.10/site-packages (from genbit) (1.26.4)\n",
      "Requirement already satisfied: language-tags==1.0.0 in /Library/Frameworks/Python.framework/Versions/3.10/lib/python3.10/site-packages (from genbit) (1.0.0)\n",
      "Requirement already satisfied: stopwordsiso==0.6.1 in /Library/Frameworks/Python.framework/Versions/3.10/lib/python3.10/site-packages (from genbit) (0.6.1)\n",
      "Requirement already satisfied: parameterized==0.7.4 in /Library/Frameworks/Python.framework/Versions/3.10/lib/python3.10/site-packages (from genbit) (0.7.4)\n",
      "Requirement already satisfied: nltk==3.6.6 in /Library/Frameworks/Python.framework/Versions/3.10/lib/python3.10/site-packages (from genbit) (3.6.6)\n",
      "Requirement already satisfied: stanza==1.2 in /Library/Frameworks/Python.framework/Versions/3.10/lib/python3.10/site-packages (from genbit) (1.2)\n",
      "Requirement already satisfied: six in /Users/xinxin/Library/Python/3.10/lib/python/site-packages (from language-tags==1.0.0->genbit) (1.16.0)\n",
      "Requirement already satisfied: click in /Library/Frameworks/Python.framework/Versions/3.10/lib/python3.10/site-packages (from nltk==3.6.6->genbit) (8.1.7)\n",
      "Requirement already satisfied: joblib in /Library/Frameworks/Python.framework/Versions/3.10/lib/python3.10/site-packages (from nltk==3.6.6->genbit) (1.3.2)\n",
      "Requirement already satisfied: regex>=2021.8.3 in /Library/Frameworks/Python.framework/Versions/3.10/lib/python3.10/site-packages (from nltk==3.6.6->genbit) (2023.12.25)\n",
      "Requirement already satisfied: tqdm in /Library/Frameworks/Python.framework/Versions/3.10/lib/python3.10/site-packages (from nltk==3.6.6->genbit) (4.66.2)\n",
      "Requirement already satisfied: protobuf in /Library/Frameworks/Python.framework/Versions/3.10/lib/python3.10/site-packages (from stanza==1.2->genbit) (5.26.1)\n",
      "Requirement already satisfied: requests in /Library/Frameworks/Python.framework/Versions/3.10/lib/python3.10/site-packages (from stanza==1.2->genbit) (2.31.0)\n",
      "Requirement already satisfied: torch>=1.3.0 in /Library/Frameworks/Python.framework/Versions/3.10/lib/python3.10/site-packages (from stanza==1.2->genbit) (2.2.2)\n",
      "Requirement already satisfied: filelock in /Library/Frameworks/Python.framework/Versions/3.10/lib/python3.10/site-packages (from torch>=1.3.0->stanza==1.2->genbit) (3.13.3)\n",
      "Requirement already satisfied: typing-extensions>=4.8.0 in /Library/Frameworks/Python.framework/Versions/3.10/lib/python3.10/site-packages (from torch>=1.3.0->stanza==1.2->genbit) (4.10.0)\n",
      "Requirement already satisfied: sympy in /Library/Frameworks/Python.framework/Versions/3.10/lib/python3.10/site-packages (from torch>=1.3.0->stanza==1.2->genbit) (1.12)\n",
      "Requirement already satisfied: networkx in /Library/Frameworks/Python.framework/Versions/3.10/lib/python3.10/site-packages (from torch>=1.3.0->stanza==1.2->genbit) (3.2.1)\n",
      "Requirement already satisfied: jinja2 in /Library/Frameworks/Python.framework/Versions/3.10/lib/python3.10/site-packages (from torch>=1.3.0->stanza==1.2->genbit) (3.1.3)\n",
      "Requirement already satisfied: fsspec in /Library/Frameworks/Python.framework/Versions/3.10/lib/python3.10/site-packages (from torch>=1.3.0->stanza==1.2->genbit) (2024.3.1)\n",
      "Requirement already satisfied: charset-normalizer<4,>=2 in /Library/Frameworks/Python.framework/Versions/3.10/lib/python3.10/site-packages (from requests->stanza==1.2->genbit) (3.3.2)\n",
      "Requirement already satisfied: idna<4,>=2.5 in /Library/Frameworks/Python.framework/Versions/3.10/lib/python3.10/site-packages (from requests->stanza==1.2->genbit) (3.6)\n",
      "Requirement already satisfied: urllib3<3,>=1.21.1 in /Library/Frameworks/Python.framework/Versions/3.10/lib/python3.10/site-packages (from requests->stanza==1.2->genbit) (2.2.1)\n",
      "Requirement already satisfied: certifi>=2017.4.17 in /Library/Frameworks/Python.framework/Versions/3.10/lib/python3.10/site-packages (from requests->stanza==1.2->genbit) (2024.2.2)\n",
      "Requirement already satisfied: MarkupSafe>=2.0 in /Library/Frameworks/Python.framework/Versions/3.10/lib/python3.10/site-packages (from jinja2->torch>=1.3.0->stanza==1.2->genbit) (2.1.5)\n",
      "Requirement already satisfied: mpmath>=0.19 in /Library/Frameworks/Python.framework/Versions/3.10/lib/python3.10/site-packages (from sympy->torch>=1.3.0->stanza==1.2->genbit) (1.3.0)\n",
      "\n",
      "\u001b[1m[\u001b[0m\u001b[34;49mnotice\u001b[0m\u001b[1;39;49m]\u001b[0m\u001b[39;49m A new release of pip is available: \u001b[0m\u001b[31;49m23.3.1\u001b[0m\u001b[39;49m -> \u001b[0m\u001b[32;49m24.0\u001b[0m\n",
      "\u001b[1m[\u001b[0m\u001b[34;49mnotice\u001b[0m\u001b[1;39;49m]\u001b[0m\u001b[39;49m To update, run: \u001b[0m\u001b[32;49mpip3 install --upgrade pip\u001b[0m\n"
     ]
    }
   ],
   "source": [
    "!pip install genbit"
   ]
  },
  {
   "cell_type": "markdown",
   "metadata": {},
   "source": [
    "### Import utilities"
   ]
  },
  {
   "cell_type": "code",
   "execution_count": 14,
   "metadata": {},
   "outputs": [],
   "source": [
    "import pprint\n",
    "import genbit\n",
    "from genbit.genbit_metrics import GenBitMetrics"
   ]
  },
  {
   "cell_type": "markdown",
   "metadata": {},
   "source": [
    "### Specify Filename Location and Language  \n",
    "(Accepted codes: EN,IT, RU, FR, DE and ES)"
   ]
  },
  {
   "cell_type": "code",
   "execution_count": 15,
   "metadata": {},
   "outputs": [],
   "source": [
    "input_file = \"sample_textbook.tsv\"\n",
    "language = \"en\""
   ]
  },
  {
   "cell_type": "code",
   "execution_count": 16,
   "metadata": {},
   "outputs": [],
   "source": [
    "metric = GenBitMetrics(language, context_window=30, distance_weight=0.95,\n",
    "                 percentile_cutoff=80)"
   ]
  },
  {
   "cell_type": "code",
   "execution_count": 17,
   "metadata": {},
   "outputs": [],
   "source": [
    "contiguous = False\n",
    "data = []\n",
    "with open(input_file, \"r\", encoding=\"utf-8\") as input_sentence_file:\n",
    "    for line in input_sentence_file:\n",
    "        if(contiguous):\n",
    "            line = line.strip()\n",
    "            data.append(line)\n",
    "        else:\n",
    "            data = []\n",
    "            line = line.strip()\n",
    "            data.append(line)\n",
    "            metric.add_data(data, tokenized=False)\n",
    "if(contiguous):\n",
    "    metric.add_data(data, tokenized=False)"
   ]
  },
  {
   "cell_type": "code",
   "execution_count": 18,
   "metadata": {},
   "outputs": [],
   "source": [
    "metrics = metric.get_metrics(output_statistics=True, output_word_list=False)"
   ]
  },
  {
   "cell_type": "markdown",
   "metadata": {},
   "source": [
    "### Print the results\n",
    "The results using the test file should show a heavy non-binary bias as many terms in the sample file are gender 'neutral' or explicitly non-binary. You will also observe that in the case of binary bias, there is a slight male-leaning bias due to the more frequently occure male gender definition words throughout the samples in the data."
   ]
  },
  {
   "cell_type": "code",
   "execution_count": 19,
   "metadata": {},
   "outputs": [
    {
     "name": "stdout",
     "output_type": "stream",
     "text": [
      "{'additional_metrics': {'avg_bias_conditional': 0.20389567640369094,\n",
      "                        'avg_bias_conditional_absolute': 0.2185869630742805,\n",
      "                        'avg_bias_ratio': 0.20389567640369094,\n",
      "                        'avg_bias_ratio_absolute': 0.21858696307428052,\n",
      "                        'avg_non_binary_bias_conditional': 1.2088505026483587,\n",
      "                        'avg_non_binary_bias_conditional_absolute': 1.2088505026483587,\n",
      "                        'avg_non_binary_bias_ratio': 1.3583822366193226,\n",
      "                        'avg_non_binary_bias_ratio_absolute': 1.3583822366193226,\n",
      "                        'avg_trans_cis_bias_conditional': -0.2016391631105359,\n",
      "                        'avg_trans_cis_bias_conditional_absolute': 0.2984469448168926,\n",
      "                        'avg_trans_cis_bias_ratio': -0.26617768424810706,\n",
      "                        'avg_trans_cis_bias_ratio_absolute': 0.26617768424810706,\n",
      "                        'std_dev_bias_conditional': 0,\n",
      "                        'std_dev_bias_ratio': 0,\n",
      "                        'std_dev_non_binary_bias_conditional': 0,\n",
      "                        'std_dev_non_binary_bias_ratio': 0,\n",
      "                        'std_dev_trans_cis_bias_conditional': 0,\n",
      "                        'std_dev_trans_cis_bias_ratio': 0},\n",
      " 'genbit_score': 0.2185869630742805,\n",
      " 'percentage_of_cis_gender_definition_words': 0.0,\n",
      " 'percentage_of_female_gender_definition_words': 0.42857142857142855,\n",
      " 'percentage_of_male_gender_definition_words': 0.42857142857142855,\n",
      " 'percentage_of_non_binary_gender_definition_words': 0.14285714285714285,\n",
      " 'percentage_of_trans_gender_definition_words': 1.0,\n",
      " 'statistics': {'freq_of_female_gender_definition_words': 3,\n",
      "                'freq_of_male_gender_definition_words': 3,\n",
      "                'freq_of_non_binary_gender_definition_words': 1,\n",
      "                'frequency_cutoff': 4.877503646718751,\n",
      "                'jsd': 0.012995412053425503,\n",
      "                'num_words_considered': 4}}\n"
     ]
    }
   ],
   "source": [
    "pprint.pprint(metrics)"
   ]
  },
  {
   "cell_type": "markdown",
   "metadata": {},
   "source": [
    "###  ----- END -------- "
   ]
  }
 ],
 "metadata": {
  "kernelspec": {
   "display_name": "Python 3.7.4 64-bit",
   "language": "python",
   "name": "python3"
  },
  "language_info": {
   "codemirror_mode": {
    "name": "ipython",
    "version": 3
   },
   "file_extension": ".py",
   "mimetype": "text/x-python",
   "name": "python",
   "nbconvert_exporter": "python",
   "pygments_lexer": "ipython3",
   "version": "3.10.10"
  },
  "vscode": {
   "interpreter": {
    "hash": "c4c9c2217c4bfe78787fc58d5a1d89949f3cc677077c7eb9a266b59c8b60ec1e"
   }
  }
 },
 "nbformat": 4,
 "nbformat_minor": 4
}
